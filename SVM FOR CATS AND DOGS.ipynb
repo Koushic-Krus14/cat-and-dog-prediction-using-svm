{
 "cells": [
  {
   "cell_type": "code",
   "execution_count": 2,
   "metadata": {
    "colab": {},
    "colab_type": "code",
    "id": "Qz98kqNOx61d"
   },
   "outputs": [],
   "source": [
    "from sklearn.model_selection import train_test_split\n",
    "from sklearn.neighbors import KNeighborsClassifier\n",
    "from sklearn.svm import SVC\n",
    "import pandas as pd\n",
    "import numpy\n",
    "import cv2\n",
    "import os\n",
    "import glob"
   ]
  },
  {
   "cell_type": "code",
   "execution_count": 3,
   "metadata": {
    "colab": {},
    "colab_type": "code",
    "id": "kAf6M0rE8Wg3"
   },
   "outputs": [],
   "source": [
    "imagematrix = numpy.load(\"matrix.npy\")\n",
    "imagelabels = numpy.load(\"labels.npy\")\n",
    "(train_img, test_img, train_label, test_label) = train_test_split(imagematrix, imagelabels, test_size=0.2, random_state=50)"
   ]
  },
  {
   "cell_type": "code",
   "execution_count": 10,
   "metadata": {
    "colab": {
     "base_uri": "https://localhost:8080/",
     "height": 35
    },
    "colab_type": "code",
    "id": "YkQSQFPj8dH1",
    "outputId": "0e267abf-8963-40b3-f294-3dc39fb01512"
   },
   "outputs": [],
   "source": [
    "model1 = SVC(max_iter=-1, kernel='linear', class_weight='balanced',gamma='scale')  # kernel linear is better Gausian kernel here\n",
    "model1.fit(train_img, train_label)\n",
    "acc1 = model1.score(test_img, test_label)\n",
    "#print(\"SVM model accuracy: {:.2f}%\".format(acc1 * 100))"
   ]
  },
  {
   "cell_type": "code",
   "execution_count": 9,
   "metadata": {},
   "outputs": [
    {
     "name": "stdout",
     "output_type": "stream",
     "text": [
      "Test Case 1\n",
      "Prediction by SVM - cat\n",
      "Test Case 2\n",
      "Prediction by SVM - dog\n",
      "Test Case 3\n",
      "Prediction by SVM - cat\n",
      "Test Case 4\n",
      "Prediction by SVM - dog\n"
     ]
    }
   ],
   "source": [
    "# Extract the image into vector\n",
    "def image_vector(image, size=(128, 128)):\n",
    "    return cv2.resize(image, size).flatten()\n",
    "\n",
    "for t in range(1, 5):\n",
    "    img = cv2.imread(\"case{0}.jpg\".format(t))\n",
    "    if img is None:\n",
    "        print(f\"Error loading image case{t}.jpg\")\n",
    "        continue\n",
    "\n",
    "    pixel = image_vector(img)\n",
    "    rawImage = numpy.array([pixel])\n",
    "    prediction1 = model1.predict(rawImage)\n",
    "\n",
    "    print(\"Test Case {0}\".format(t))\n",
    "    print(\"Prediction by SVM - {0}\".format(prediction1[0]))\n",
    "\n",
    "    w, h = len(img[0]), len(img)\n",
    "    if w > 1000:\n",
    "        w, h = w // 4, h // 4\n",
    "    else:\n",
    "        w, h = w // 2, h // 2\n",
    "\n",
    "    # Display the resized image using cv2.imshow\n",
    "    cv2.imshow(\"Test Case {0}\".format(t), cv2.resize(img, (w, h)))\n",
    "    cv2.waitKey(0)  # Wait for a key press before closing the image window\n",
    "\n",
    "cv2.destroyAllWindows()  # Close all open windows after processing\n"
   ]
  },
  {
   "cell_type": "code",
   "execution_count": null,
   "metadata": {},
   "outputs": [],
   "source": []
  }
 ],
 "metadata": {
  "colab": {
   "authorship_tag": "ABX9TyP+95oxcLyF3no4O7kW5RIT",
   "collapsed_sections": [],
   "include_colab_link": true,
   "name": "Experiment 3.ipynb",
   "provenance": []
  },
  "kernelspec": {
   "display_name": "Python 3 (ipykernel)",
   "language": "python",
   "name": "python3"
  },
  "language_info": {
   "codemirror_mode": {
    "name": "ipython",
    "version": 3
   },
   "file_extension": ".py",
   "mimetype": "text/x-python",
   "name": "python",
   "nbconvert_exporter": "python",
   "pygments_lexer": "ipython3",
   "version": "3.11.5"
  }
 },
 "nbformat": 4,
 "nbformat_minor": 1
}
